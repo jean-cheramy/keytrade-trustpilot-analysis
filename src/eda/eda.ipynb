{
 "cells": [
  {
   "cell_type": "code",
   "execution_count": 1,
   "metadata": {},
   "outputs": [
    {
     "data": {
      "text/html": [
       "\n",
       "            <div>\n",
       "                <ins><a href=\"ttps://ydata.ai/register\">Upgrade to ydata-sdk</a></ins>\n",
       "                <p>\n",
       "                    Improve your data and profiling with ydata-sdk, featuring data quality scoring, redundancy detection, outlier identification, text validation, and synthetic data generation.\n",
       "                </p>\n",
       "            </div>\n",
       "            "
      ],
      "text/plain": [
       "<IPython.core.display.HTML object>"
      ]
     },
     "metadata": {},
     "output_type": "display_data"
    }
   ],
   "source": [
    "import pandas as pd\n",
    "from ydata_profiling import ProfileReport\n",
    "import matplotlib.pyplot as plt\n",
    "import seaborn as sns"
   ]
  },
  {
   "cell_type": "code",
   "execution_count": null,
   "metadata": {},
   "outputs": [],
   "source": []
  },
  {
   "cell_type": "code",
   "execution_count": 2,
   "metadata": {},
   "outputs": [
    {
     "data": {
      "application/vnd.microsoft.datawrangler.viewer.v0+json": {
       "columns": [
        {
         "name": "index",
         "rawType": "object",
         "type": "string"
        },
        {
         "name": "rating",
         "rawType": "float64",
         "type": "float"
        },
        {
         "name": "consumersReviewCountOnSameDomain",
         "rawType": "float64",
         "type": "float"
        },
        {
         "name": "consumer_numberOfReviews",
         "rawType": "float64",
         "type": "float"
        },
        {
         "name": "likes",
         "rawType": "float64",
         "type": "float"
        }
       ],
       "conversionMethod": "pd.DataFrame",
       "ref": "e6252473-b31d-45fc-8aa8-32cdaf218373",
       "rows": [
        [
         "count",
         "1027.0",
         "1027.0",
         "1027.0",
         "1027.0"
        ],
        [
         "mean",
         "2.6543330087633885",
         "1.0428432327166504",
         "4.91333982473223",
         "0.5881207400194742"
        ],
        [
         "std",
         "1.7594878469426931",
         "0.2210088902987796",
         "6.729476578013807",
         "0.9244223068446858"
        ],
        [
         "min",
         "1.0",
         "1.0",
         "1.0",
         "0.0"
        ],
        [
         "25%",
         "1.0",
         "1.0",
         "1.0",
         "0.0"
        ],
        [
         "50%",
         "2.0",
         "1.0",
         "3.0",
         "0.0"
        ],
        [
         "75%",
         "5.0",
         "1.0",
         "6.0",
         "1.0"
        ],
        [
         "max",
         "5.0",
         "3.0",
         "78.0",
         "5.0"
        ]
       ],
       "shape": {
        "columns": 4,
        "rows": 8
       }
      },
      "text/html": [
       "<div>\n",
       "<style scoped>\n",
       "    .dataframe tbody tr th:only-of-type {\n",
       "        vertical-align: middle;\n",
       "    }\n",
       "\n",
       "    .dataframe tbody tr th {\n",
       "        vertical-align: top;\n",
       "    }\n",
       "\n",
       "    .dataframe thead th {\n",
       "        text-align: right;\n",
       "    }\n",
       "</style>\n",
       "<table border=\"1\" class=\"dataframe\">\n",
       "  <thead>\n",
       "    <tr style=\"text-align: right;\">\n",
       "      <th></th>\n",
       "      <th>rating</th>\n",
       "      <th>consumersReviewCountOnSameDomain</th>\n",
       "      <th>consumer_numberOfReviews</th>\n",
       "      <th>likes</th>\n",
       "    </tr>\n",
       "  </thead>\n",
       "  <tbody>\n",
       "    <tr>\n",
       "      <th>count</th>\n",
       "      <td>1027.000000</td>\n",
       "      <td>1027.000000</td>\n",
       "      <td>1027.000000</td>\n",
       "      <td>1027.000000</td>\n",
       "    </tr>\n",
       "    <tr>\n",
       "      <th>mean</th>\n",
       "      <td>2.654333</td>\n",
       "      <td>1.042843</td>\n",
       "      <td>4.913340</td>\n",
       "      <td>0.588121</td>\n",
       "    </tr>\n",
       "    <tr>\n",
       "      <th>std</th>\n",
       "      <td>1.759488</td>\n",
       "      <td>0.221009</td>\n",
       "      <td>6.729477</td>\n",
       "      <td>0.924422</td>\n",
       "    </tr>\n",
       "    <tr>\n",
       "      <th>min</th>\n",
       "      <td>1.000000</td>\n",
       "      <td>1.000000</td>\n",
       "      <td>1.000000</td>\n",
       "      <td>0.000000</td>\n",
       "    </tr>\n",
       "    <tr>\n",
       "      <th>25%</th>\n",
       "      <td>1.000000</td>\n",
       "      <td>1.000000</td>\n",
       "      <td>1.000000</td>\n",
       "      <td>0.000000</td>\n",
       "    </tr>\n",
       "    <tr>\n",
       "      <th>50%</th>\n",
       "      <td>2.000000</td>\n",
       "      <td>1.000000</td>\n",
       "      <td>3.000000</td>\n",
       "      <td>0.000000</td>\n",
       "    </tr>\n",
       "    <tr>\n",
       "      <th>75%</th>\n",
       "      <td>5.000000</td>\n",
       "      <td>1.000000</td>\n",
       "      <td>6.000000</td>\n",
       "      <td>1.000000</td>\n",
       "    </tr>\n",
       "    <tr>\n",
       "      <th>max</th>\n",
       "      <td>5.000000</td>\n",
       "      <td>3.000000</td>\n",
       "      <td>78.000000</td>\n",
       "      <td>5.000000</td>\n",
       "    </tr>\n",
       "  </tbody>\n",
       "</table>\n",
       "</div>"
      ],
      "text/plain": [
       "            rating  consumersReviewCountOnSameDomain  \\\n",
       "count  1027.000000                       1027.000000   \n",
       "mean      2.654333                          1.042843   \n",
       "std       1.759488                          0.221009   \n",
       "min       1.000000                          1.000000   \n",
       "25%       1.000000                          1.000000   \n",
       "50%       2.000000                          1.000000   \n",
       "75%       5.000000                          1.000000   \n",
       "max       5.000000                          3.000000   \n",
       "\n",
       "       consumer_numberOfReviews        likes  \n",
       "count               1027.000000  1027.000000  \n",
       "mean                   4.913340     0.588121  \n",
       "std                    6.729477     0.924422  \n",
       "min                    1.000000     0.000000  \n",
       "25%                    1.000000     0.000000  \n",
       "50%                    3.000000     0.000000  \n",
       "75%                    6.000000     1.000000  \n",
       "max                   78.000000     5.000000  "
      ]
     },
     "execution_count": 2,
     "metadata": {},
     "output_type": "execute_result"
    }
   ],
   "source": [
    "csv_file = '/home/jean-cheramy/Bureau/keytrade-trustpilot-analysis/src/data/dataset.csv'\n",
    "df = pd.read_csv(csv_file, sep='\\t')\n",
    "df.describe()"
   ]
  },
  {
   "cell_type": "code",
   "execution_count": 4,
   "metadata": {},
   "outputs": [
    {
     "name": "stdout",
     "output_type": "stream",
     "text": [
      "text, Type: object\n",
      "rating, Type: int64\n",
      "consumer_id, Type: object\n",
      "language, Type: object\n",
      "reply_message, Type: object\n",
      "consumer_countryCode, Type: object\n",
      "consumersReviewCountOnSameDomain, Type: int64\n",
      "dates_publishedDate, Type: object\n",
      "consumer_numberOfReviews, Type: int64\n",
      "reply_publishedDate, Type: object\n",
      "likes, Type: int64\n",
      "consumer_isVerified, Type: bool\n",
      "title, Type: object\n"
     ]
    }
   ],
   "source": [
    "for column, dtype in df.dtypes.items():\n",
    "    print(f\"{column}, Type: {dtype}\")"
   ]
  },
  {
   "cell_type": "code",
   "execution_count": 3,
   "metadata": {},
   "outputs": [
    {
     "data": {
      "application/vnd.jupyter.widget-view+json": {
       "model_id": "361337ca8dd34eaa99328a6e00092f09",
       "version_major": 2,
       "version_minor": 0
      },
      "text/plain": [
       "Summarize dataset:   0%|          | 0/5 [00:00<?, ?it/s]"
      ]
     },
     "metadata": {},
     "output_type": "display_data"
    },
    {
     "name": "stderr",
     "output_type": "stream",
     "text": [
      "100%|██████████| 13/13 [00:00<00:00, 87.04it/s]\n"
     ]
    },
    {
     "data": {
      "application/vnd.jupyter.widget-view+json": {
       "model_id": "012b817616054bdb8185019236f812de",
       "version_major": 2,
       "version_minor": 0
      },
      "text/plain": [
       "Generate report structure:   0%|          | 0/1 [00:00<?, ?it/s]"
      ]
     },
     "metadata": {},
     "output_type": "display_data"
    },
    {
     "data": {
      "application/vnd.jupyter.widget-view+json": {
       "model_id": "c7c819f67f674c428f457b4c6177b82c",
       "version_major": 2,
       "version_minor": 0
      },
      "text/plain": [
       "Render HTML:   0%|          | 0/1 [00:00<?, ?it/s]"
      ]
     },
     "metadata": {},
     "output_type": "display_data"
    },
    {
     "data": {
      "application/vnd.jupyter.widget-view+json": {
       "model_id": "068cf53ca7094f8b9adf570b9a5bab33",
       "version_major": 2,
       "version_minor": 0
      },
      "text/plain": [
       "Export report to file:   0%|          | 0/1 [00:00<?, ?it/s]"
      ]
     },
     "metadata": {},
     "output_type": "display_data"
    }
   ],
   "source": [
    "profile = ProfileReport(df, title=\"CSV Profile Report\", explorative=True)\n",
    "profile.to_file(\"/home/jean-cheramy/Bureau/keytrade-trustpilot-analysis/src/eda/profile_report.html\") \n"
   ]
  },
  {
   "cell_type": "code",
   "execution_count": 8,
   "metadata": {},
   "outputs": [
    {
     "name": "stdout",
     "output_type": "stream",
     "text": [
      "Text Length Distribution Metrics:\n",
      "Average length: 358.4888023369036\n",
      "Median length: 249.0\n",
      "Min length: 10\n",
      "Max length: 4470\n",
      "Standard deviation: 409.08851830644534\n"
     ]
    },
    {
     "name": "stderr",
     "output_type": "stream",
     "text": [
      "/tmp/ipykernel_326350/275947448.py:47: FutureWarning: \n",
      "\n",
      "`shade` is now deprecated in favor of `fill`; setting `fill=True`.\n",
      "This will become an error in seaborn v0.14.0; please update your code.\n",
      "\n",
      "  sns.kdeplot(df['text_length'], shade=True, color='skyblue', alpha=0.7)\n"
     ]
    }
   ],
   "source": [
    "\n",
    "# Load the dataset (Assumes 'balanced_test_set.csv' exists with a 'text' column)\n",
    "csv_file = '/home/jean-cheramy/Bureau/keytrade-trustpilot-analysis/src/data/dataset.csv'\n",
    "df = pd.read_csv(csv_file, sep='\\t')\n",
    "\n",
    "import pandas as pd\n",
    "import matplotlib.pyplot as plt\n",
    "import seaborn as sns\n",
    "\n",
    "# Compute text lengths\n",
    "df['text_length'] = df['text'].apply(len)\n",
    "\n",
    "# Compute metrics\n",
    "length_stats = {\n",
    "    'average_length': df['text_length'].mean(),\n",
    "    'median_length': df['text_length'].median(),\n",
    "    'min_length': df['text_length'].min(),\n",
    "    'max_length': df['text_length'].max(),\n",
    "    'std_length': df['text_length'].std(),\n",
    "}\n",
    "\n",
    "# Display metrics\n",
    "print(\"Text Length Distribution Metrics:\")\n",
    "print(f\"Average length: {length_stats['average_length']}\")\n",
    "print(f\"Median length: {length_stats['median_length']}\")\n",
    "print(f\"Min length: {length_stats['min_length']}\")\n",
    "print(f\"Max length: {length_stats['max_length']}\")\n",
    "print(f\"Standard deviation: {length_stats['std_length']}\")\n",
    "\n",
    "# 1. Histogram Plot\n",
    "plt.figure(figsize=(8, 6))\n",
    "df['text_length'].plot(kind='hist', bins=50, color='skyblue', edgecolor='black')\n",
    "plt.title('Text Length Distribution (Histogram)')\n",
    "plt.xlabel('Text Length')\n",
    "plt.ylabel('Frequency')\n",
    "plt.grid(True)\n",
    "plt.savefig(\"../plots/text_length_distribution.png\")\n",
    "\n",
    "# 2. Box Plot\n",
    "plt.figure(figsize=(8, 6))\n",
    "sns.boxplot(x=df['text_length'], color='skyblue')\n",
    "plt.title('Text Length Distribution (Box Plot)')\n",
    "plt.xlabel('Text Length')\n",
    "plt.savefig(\"../plots/text_length_distribution_box_plot.png\")\n",
    "\n",
    "# 3. Density Plot\n",
    "plt.figure(figsize=(8, 6))\n",
    "sns.kdeplot(df['text_length'], shade=True, color='skyblue', alpha=0.7)\n",
    "plt.title('Text Length Distribution (Density Plot)')\n",
    "plt.xlabel('Text Length')\n",
    "plt.ylabel('Density')\n",
    "plt.grid(True)\n",
    "plt.savefig(\"../plots/text_length_distribution_density_plot.png\")\n",
    "\n",
    "# 4. Violin Plot (To show the distribution in a different way)\n",
    "plt.figure(figsize=(8, 6))\n",
    "sns.violinplot(x=df['text_length'], color='skyblue')\n",
    "plt.title('Text Length Distribution (Violin Plot)')\n",
    "plt.xlabel('Text Length')\n",
    "plt.savefig(\"../plots/text_length_distribution_violin.png\")\n"
   ]
  },
  {
   "cell_type": "code",
   "execution_count": 6,
   "metadata": {},
   "outputs": [
    {
     "data": {
      "image/png": "[encoded data removed]",
      "text/plain": [
       "<Figure size 800x600 with 1 Axes>"
      ]
     },
     "metadata": {},
     "output_type": "display_data"
    }
   ],
   "source": [
    "import pandas as pd\n",
    "import matplotlib.pyplot as plt\n",
    "import seaborn as sns\n",
    "\n",
    "# Load the dataset (Ensure 'dataset.csv' exists with 'rating' and 'reply_message' columns)\n",
    "csv_file = '/home/jean-cheramy/Bureau/keytrade-trustpilot-analysis/src/data/dataset.csv'\n",
    "df = pd.read_csv(csv_file, sep=\"\\t\")\n",
    "\n",
    "# Create a new column 'reply_binary' where 1 means reply exists and 0 means it's empty\n",
    "df['reply_binary'] = df['reply_message'].apply(lambda x: 1 if pd.notnull(x) and x.strip() != '' else 0)\n",
    "\n",
    "# Count occurrences for each rating and reply_binary combination\n",
    "rating_reply_counts = df.groupby(['rating', 'reply_binary']).size().unstack(fill_value=0)\n",
    "\n",
    "# Create stacked bar plot with the same palette\n",
    "rating_reply_counts.plot(kind='bar', stacked=True, figsize=(8, 6), color=sns.color_palette('Set1'))\n",
    "plt.xticks(rotation=0)\n",
    "\n",
    "# Add plot title and labels\n",
    "plt.title('Stacked Count of Reviews with/without Reply by Rating')\n",
    "plt.xlabel('Rating (1-5)')\n",
    "plt.ylabel('Count')\n",
    "plt.legend(title='Reply', labels=['No Reply', 'Reply'])\n",
    "\n",
    "# Save and show the plot\n",
    "plt.savefig(\"../plots/rating_reply_stacked_bar.png\")\n",
    "plt.show()\n",
    "\n",
    "\n"
   ]
  },
  {
   "cell_type": "code",
   "execution_count": 14,
   "metadata": {},
   "outputs": [
    {
     "name": "stderr",
     "output_type": "stream",
     "text": [
      "/tmp/ipykernel_326350/354037035.py:5: FutureWarning: \n",
      "\n",
      "Passing `palette` without assigning `hue` is deprecated and will be removed in v0.14.0. Assign the `x` variable to `hue` and set `legend=False` for the same effect.\n",
      "\n",
      "  sns.violinplot(data=df, x='rating', y='reply_binary', palette='Set1')\n"
     ]
    }
   ],
   "source": [
    "# Create a new column 'reply_binary' where 1 means reply exists and 0 means it's empty\n",
    "df['reply_binary'] = df['reply_message'].apply(lambda x: 1 if pd.notnull(x) and x.strip() != '' else 0)\n",
    "\n",
    "plt.figure(figsize=(8, 6))\n",
    "sns.violinplot(data=df, x='rating', y='reply_binary', palette='Set1')\n",
    "\n",
    "# Add plot title and labels\n",
    "plt.title('Reply Distribution by Rating (Violin Plot)')\n",
    "plt.xlabel('Rating (1-5)')\n",
    "plt.ylabel('Reply (1 = Exists, 0 = Empty)')\n",
    "# Show the plot\n",
    "plt.savefig(\"../plots/rating_reply_violin_plot.png\")\n"
   ]
  },
  {
   "cell_type": "code",
   "execution_count": 17,
   "metadata": {},
   "outputs": [
    {
     "name": "stdout",
     "output_type": "stream",
     "text": [
      "Number of repeated reviews: 0\n",
      "Percentage of repeated reviews in the entire dataset: 0.00%\n"
     ]
    }
   ],
   "source": [
    "# Calculate the number of reviews per customer\n",
    "customer_review_counts = df['consumer_id'].value_counts()\n",
    "\n",
    "# Filter customers who have written more than 1 review (repeated reviews)\n",
    "repeated_reviews = customer_review_counts[customer_review_counts > 1]\n",
    "\n",
    "# Calculate the number of repeated reviews (sum of counts where customer has > 1 review)\n",
    "num_repeated_reviews = repeated_reviews.sum()\n",
    "\n",
    "# Calculate the total number of reviews in the dataset\n",
    "total_reviews = len(df)\n",
    "\n",
    "# Calculate the percentage of repeated reviews out of the total reviews\n",
    "percentage_repeated_reviews = (num_repeated_reviews / total_reviews) * 100\n",
    "\n",
    "# Display the results\n",
    "print(f\"Number of repeated reviews: {num_repeated_reviews}\")\n",
    "print(f\"Percentage of repeated reviews in the entire dataset: {percentage_repeated_reviews:.2f}%\")\n"
   ]
  },
  {
   "cell_type": "code",
   "execution_count": 22,
   "metadata": {},
   "outputs": [],
   "source": [
    "import numpy as np\n",
    "# Group by 'language' and calculate the average rating for each group\n",
    "average_rating_per_language = df.groupby('language')['rating'].mean()\n",
    "\n",
    "# Plotting the results\n",
    "plt.figure(figsize=(10, 6))\n",
    "\n",
    "# Use a sequential colormap\n",
    "colors = plt.cm.viridis(np.linspace(0, 1, len(average_rating_per_language)))\n",
    "\n",
    "# Create a horizontal bar plot with average ratings\n",
    "plt.barh(average_rating_per_language.index, average_rating_per_language.values, color=colors)\n",
    "\n",
    "# Add the maximum value line at x=5 (rating scale)\n",
    "plt.axvline(x=5, color='r', linestyle='--', label='Maximum Rating (5)')\n",
    "\n",
    "# Add labels and title\n",
    "plt.xlabel('Average Rating', fontsize=14)\n",
    "plt.ylabel('Language', fontsize=14)\n",
    "plt.title('Average Rating Per Language', fontsize=16)\n",
    "\n",
    "# Add a legend\n",
    "plt.legend()\n",
    "\n",
    "# Display the plot\n",
    "plt.tight_layout()\n",
    "plt.savefig(\"../plots/average_rating_per_language.png\")"
   ]
  },
  {
   "cell_type": "code",
   "execution_count": 34,
   "metadata": {},
   "outputs": [
    {
     "name": "stderr",
     "output_type": "stream",
     "text": [
      "/tmp/ipykernel_326350/236059497.py:23: UserWarning: Converting to PeriodArray/Index representation will drop timezone information.\n",
      "  df['review_month'] = df['review_date'].dt.to_period('M')  # This converts dates into monthly periods\n"
     ]
    },
    {
     "name": "stdout",
     "output_type": "stream",
     "text": [
      "Detected peaks:\n",
      "rating_category  Negative  Neutral  Positive\n",
      "review_month                                \n",
      "2017-12               NaN      NaN       NaN\n",
      "2018-01               NaN      NaN       NaN\n",
      "2018-04               NaN      NaN       NaN\n",
      "2018-08               NaN      NaN       NaN\n",
      "2018-10               NaN      NaN       NaN\n",
      "...                   ...      ...       ...\n",
      "2024-10              20.0      NaN       8.0\n",
      "2024-11              12.0      NaN       NaN\n",
      "2024-12              13.0     14.0      69.0\n",
      "2025-01              16.0      NaN      53.0\n",
      "2025-02              10.0      NaN       NaN\n",
      "\n",
      "[73 rows x 3 columns]\n"
     ]
    }
   ],
   "source": [
    "import pandas as pd\n",
    "import matplotlib.pyplot as plt\n",
    "\n",
    "# Convert 'review_date' column to datetime\n",
    "df['review_date'] = pd.to_datetime(df['dates_publishedDate'], errors='coerce')\n",
    "\n",
    "# Remove rows where 'review_date' is NaT (Not a Time) if needed\n",
    "df = df.dropna(subset=['review_date'])\n",
    "\n",
    "# Group ratings into Negative (1-2), Neutral (3), and Positive (4-5)\n",
    "def categorize_rating(rating):\n",
    "    if rating in [1, 2]:\n",
    "        return 'Negative'\n",
    "    elif rating == 3:\n",
    "        return 'Neutral'\n",
    "    elif rating in [4, 5]:\n",
    "        return 'Positive'\n",
    "    return 'Unknown'\n",
    "\n",
    "df['rating_category'] = df['rating'].apply(categorize_rating)\n",
    "\n",
    "# Group by 1-month intervals\n",
    "df['review_month'] = df['review_date'].dt.to_period('M')  # This converts dates into monthly periods\n",
    "\n",
    "# Count reviews per rating category and per month\n",
    "rating_counts_by_month = df.groupby(['review_month', 'rating_category']).size().unstack(fill_value=0)\n",
    "\n",
    "# Define colors for the categories\n",
    "category_colors = {\n",
    "    'Negative': 'red',\n",
    "    'Neutral': 'gray',\n",
    "    'Positive': 'green'\n",
    "}\n",
    "\n",
    "# Plot the number of reviews for each category (Negative, Neutral, Positive) over time (monthly)\n",
    "plt.figure(figsize=(12, 6))\n",
    "\n",
    "# Plot each rating category\n",
    "for category, color in category_colors.items():\n",
    "    plt.plot(rating_counts_by_month.index.astype(str), rating_counts_by_month[category], marker='o', label=category, color=color)\n",
    "\n",
    "# Add title and labels\n",
    "plt.title(\"Evolution of Review Ratings Over Time\", fontsize=16)\n",
    "plt.xlabel(\"Month\", fontsize=12)\n",
    "plt.ylabel(\"Number of Reviews\", fontsize=12)\n",
    "\n",
    "# Select some x-tick labels (e.g., every 3rd month, every 6th month, etc.)\n",
    "tick_positions = range(0, len(rating_counts_by_month), 3)  # Adjust step size to control how many labels you want\n",
    "tick_labels = [rating_counts_by_month.index[i].strftime('%Y-%m') for i in tick_positions]\n",
    "\n",
    "# Set the x-ticks to display at the selected positions and their corresponding labels\n",
    "plt.xticks(tick_positions, tick_labels, rotation=45, ha='right', fontsize=10)\n",
    "\n",
    "# Add gridlines for readability\n",
    "plt.grid(True)\n",
    "\n",
    "# Add a legend for the categories with colors\n",
    "plt.legend(title=\"Rating Categories\", loc='upper left')\n",
    "\n",
    "# Display the plot with a tight layout\n",
    "plt.tight_layout()\n",
    "\n",
    "# Save the plot as an image\n",
    "plt.savefig(\"../plots/reviews_peaks.png\")\n",
    "\n",
    "# Detect peaks in review counts (you can adjust the threshold based on your dataset)\n",
    "average_reviews = rating_counts_by_month.mean().mean()  # Taking the average across all categories and months\n",
    "peaks = rating_counts_by_month[rating_counts_by_month > average_reviews * 1.5]  # Example: peak if 1.5x average\n",
    "\n",
    "# Display the peaks (periods with significantly higher reviews)\n",
    "print(\"Detected peaks:\")\n",
    "print(peaks)\n"
   ]
  },
  {
   "cell_type": "code",
   "execution_count": 36,
   "metadata": {},
   "outputs": [
    {
     "name": "stderr",
     "output_type": "stream",
     "text": [
      "/tmp/ipykernel_326350/992724325.py:6: FutureWarning: \n",
      "\n",
      "Passing `palette` without assigning `hue` is deprecated and will be removed in v0.14.0. Assign the `x` variable to `hue` and set `legend=False` for the same effect.\n",
      "\n",
      "  sns.barplot(x=country_counts.index, y=country_counts.values, palette='viridis')\n"
     ]
    }
   ],
   "source": [
    "# Count the occurrences of each country code\n",
    "country_counts = df['consumer_countryCode'].value_counts()\n",
    "\n",
    "# Plotting the distribution\n",
    "plt.figure(figsize=(14, 8))\n",
    "sns.barplot(x=country_counts.index, y=country_counts.values, palette='viridis')\n",
    "\n",
    "# Adding labels and title\n",
    "plt.title('Distribution of Countries Based on Consumer Country Code', fontsize=16)\n",
    "plt.xlabel('Country Code', fontsize=12)\n",
    "plt.ylabel('Number of Consumers', fontsize=12)\n",
    "\n",
    "# Rotate x-axis labels for readability\n",
    "plt.xticks(rotation=90)\n",
    "\n",
    "# Display the plot with a tight layout\n",
    "plt.tight_layout()\n",
    "plt.savefig(\"../plots/countries_distribution.png\")"
   ]
  },
  {
   "cell_type": "code",
   "execution_count": 38,
   "metadata": {},
   "outputs": [
    {
     "name": "stdout",
     "output_type": "stream",
     "text": [
      "📉 **Average Character Length of Negative Reviews (1-2 stars):** 476.41 characters\n",
      "📈 **Average Character Length of Positive Reviews (4-5 stars):** 199.50 characters\n"
     ]
    }
   ],
   "source": [
    "\n",
    "# Ensure 'rating' is numeric\n",
    "df['rating'] = pd.to_numeric(df['rating'], errors='coerce')\n",
    "\n",
    "# Compute review length (character count)\n",
    "df['review_length_chars'] = df['text'].apply(lambda x: len(str(x)))\n",
    "\n",
    "# Categorize reviews into Negative (1-2) and Positive (4-5)\n",
    "negative_reviews = df[df['rating'].isin([1, 2])]\n",
    "positive_reviews = df[df['rating'].isin([4, 5])]\n",
    "\n",
    "# Compute average character length metrics\n",
    "negative_avg_length_chars = negative_reviews['review_length_chars'].mean()\n",
    "positive_avg_length_chars = positive_reviews['review_length_chars'].mean()\n",
    "\n",
    "# Display results\n",
    "print(f\"📉 **Average Character Length of Negative Reviews (1-2 stars):** {negative_avg_length_chars:.2f} characters\")\n",
    "print(f\"📈 **Average Character Length of Positive Reviews (4-5 stars):** {positive_avg_length_chars:.2f} characters\")\n",
    "\n"
   ]
  },
  {
   "cell_type": "code",
   "execution_count": null,
   "metadata": {},
   "outputs": [
    {
     "data": {
      "application/vnd.jupyter.widget-view+json": {
       "model_id": "4acdb84cd02242c7bbf90e9c163ffab6",
       "version_major": 2,
       "version_minor": 0
      },
      "text/plain": [
       "Summarize dataset:   0%|          | 0/5 [00:00<?, ?it/s]"
      ]
     },
     "metadata": {},
     "output_type": "display_data"
    },
    {
     "name": "stderr",
     "output_type": "stream",
     "text": [
      "100%|██████████| 39/39 [00:00<00:00, 73.56it/s]\n"
     ]
    },
    {
     "data": {
      "application/vnd.jupyter.widget-view+json": {
       "model_id": "2f6e6acb63be466fa3495aab3304bbc3",
       "version_major": 2,
       "version_minor": 0
      },
      "text/plain": [
       "Generate report structure:   0%|          | 0/1 [00:00<?, ?it/s]"
      ]
     },
     "metadata": {},
     "output_type": "display_data"
    },
    {
     "data": {
      "application/vnd.jupyter.widget-view+json": {
       "model_id": "29f8f6079cd14541a1cd9f3699448342",
       "version_major": 2,
       "version_minor": 0
      },
      "text/plain": [
       "Render HTML:   0%|          | 0/1 [00:00<?, ?it/s]"
      ]
     },
     "metadata": {},
     "output_type": "display_data"
    },
    {
     "data": {
      "application/vnd.jupyter.widget-view+json": {
       "model_id": "d1bd5b1b45a84ef6aa98e1d0b9468607",
       "version_major": 2,
       "version_minor": 0
      },
      "text/plain": [
       "Export report to file:   0%|          | 0/1 [00:00<?, ?it/s]"
      ]
     },
     "metadata": {},
     "output_type": "display_data"
    }
   ],
   "source": [
    "csv_file = '/home/jean-cheramy/Bureau/keytrade-trustpilot-analysis/src/data/not_cleaned_reviews.csv'\n",
    "df = pd.read_csv(csv_file, sep='\\t')\n",
    "\n",
    "\n",
    "profile = ProfileReport(df, title=\"CSV Profile Report\", explorative=True)\n",
    "profile.to_file(\"/home/jean-cheramy/Bureau/keytrade-trustpilot-analysis/src/eda/not_cleaned_profile_report.html\") \n"
   ]
  },
  {
   "cell_type": "code",
   "execution_count": 18,
   "metadata": {},
   "outputs": [
    {
     "ename": "FileNotFoundError",
     "evalue": "[Errno 2] Aucun fichier ou dossier de ce nom: 'data/balanced_test_set.csv'",
     "output_type": "error",
     "traceback": [
      "\u001b[0;31m---------------------------------------------------------------------------\u001b[0m",
      "\u001b[0;31mFileNotFoundError\u001b[0m                         Traceback (most recent call last)",
      "Cell \u001b[0;32mIn[18], line 2\u001b[0m\n\u001b[1;32m      1\u001b[0m csv_file \u001b[38;5;241m=\u001b[39m \u001b[38;5;124m'\u001b[39m\u001b[38;5;124mdata/balanced_test_set.csv\u001b[39m\u001b[38;5;124m'\u001b[39m\n\u001b[0;32m----> 2\u001b[0m df \u001b[38;5;241m=\u001b[39m \u001b[43mpd\u001b[49m\u001b[38;5;241;43m.\u001b[39;49m\u001b[43mread_csv\u001b[49m\u001b[43m(\u001b[49m\u001b[43mcsv_file\u001b[49m\u001b[43m,\u001b[49m\u001b[43m \u001b[49m\u001b[43msep\u001b[49m\u001b[38;5;241;43m=\u001b[39;49m\u001b[38;5;124;43m'\u001b[39;49m\u001b[38;5;130;43;01m\\t\u001b[39;49;00m\u001b[38;5;124;43m'\u001b[39;49m\u001b[43m)\u001b[49m\n\u001b[1;32m      4\u001b[0m profile \u001b[38;5;241m=\u001b[39m ProfileReport(df, title\u001b[38;5;241m=\u001b[39m\u001b[38;5;124m\"\u001b[39m\u001b[38;5;124mCSV Profile Report\u001b[39m\u001b[38;5;124m\"\u001b[39m, explorative\u001b[38;5;241m=\u001b[39m\u001b[38;5;28;01mTrue\u001b[39;00m)\n\u001b[1;32m      5\u001b[0m profile\u001b[38;5;241m.\u001b[39mto_file(\u001b[38;5;124m\"\u001b[39m\u001b[38;5;124mprofile_report_test_set.html\u001b[39m\u001b[38;5;124m\"\u001b[39m) \n",
      "File \u001b[0;32m~/miniconda3/envs/dl_venv/lib/python3.12/site-packages/pandas/io/parsers/readers.py:1026\u001b[0m, in \u001b[0;36mread_csv\u001b[0;34m(filepath_or_buffer, sep, delimiter, header, names, index_col, usecols, dtype, engine, converters, true_values, false_values, skipinitialspace, skiprows, skipfooter, nrows, na_values, keep_default_na, na_filter, verbose, skip_blank_lines, parse_dates, infer_datetime_format, keep_date_col, date_parser, date_format, dayfirst, cache_dates, iterator, chunksize, compression, thousands, decimal, lineterminator, quotechar, quoting, doublequote, escapechar, comment, encoding, encoding_errors, dialect, on_bad_lines, delim_whitespace, low_memory, memory_map, float_precision, storage_options, dtype_backend)\u001b[0m\n\u001b[1;32m   1013\u001b[0m kwds_defaults \u001b[38;5;241m=\u001b[39m _refine_defaults_read(\n\u001b[1;32m   1014\u001b[0m     dialect,\n\u001b[1;32m   1015\u001b[0m     delimiter,\n\u001b[0;32m   (...)\u001b[0m\n\u001b[1;32m   1022\u001b[0m     dtype_backend\u001b[38;5;241m=\u001b[39mdtype_backend,\n\u001b[1;32m   1023\u001b[0m )\n\u001b[1;32m   1024\u001b[0m kwds\u001b[38;5;241m.\u001b[39mupdate(kwds_defaults)\n\u001b[0;32m-> 1026\u001b[0m \u001b[38;5;28;01mreturn\u001b[39;00m \u001b[43m_read\u001b[49m\u001b[43m(\u001b[49m\u001b[43mfilepath_or_buffer\u001b[49m\u001b[43m,\u001b[49m\u001b[43m \u001b[49m\u001b[43mkwds\u001b[49m\u001b[43m)\u001b[49m\n",
      "File \u001b[0;32m~/miniconda3/envs/dl_venv/lib/python3.12/site-packages/pandas/io/parsers/readers.py:620\u001b[0m, in \u001b[0;36m_read\u001b[0;34m(filepath_or_buffer, kwds)\u001b[0m\n\u001b[1;32m    617\u001b[0m _validate_names(kwds\u001b[38;5;241m.\u001b[39mget(\u001b[38;5;124m\"\u001b[39m\u001b[38;5;124mnames\u001b[39m\u001b[38;5;124m\"\u001b[39m, \u001b[38;5;28;01mNone\u001b[39;00m))\n\u001b[1;32m    619\u001b[0m \u001b[38;5;66;03m# Create the parser.\u001b[39;00m\n\u001b[0;32m--> 620\u001b[0m parser \u001b[38;5;241m=\u001b[39m \u001b[43mTextFileReader\u001b[49m\u001b[43m(\u001b[49m\u001b[43mfilepath_or_buffer\u001b[49m\u001b[43m,\u001b[49m\u001b[43m \u001b[49m\u001b[38;5;241;43m*\u001b[39;49m\u001b[38;5;241;43m*\u001b[39;49m\u001b[43mkwds\u001b[49m\u001b[43m)\u001b[49m\n\u001b[1;32m    622\u001b[0m \u001b[38;5;28;01mif\u001b[39;00m chunksize \u001b[38;5;129;01mor\u001b[39;00m iterator:\n\u001b[1;32m    623\u001b[0m     \u001b[38;5;28;01mreturn\u001b[39;00m parser\n",
      "File \u001b[0;32m~/miniconda3/envs/dl_venv/lib/python3.12/site-packages/pandas/io/parsers/readers.py:1620\u001b[0m, in \u001b[0;36mTextFileReader.__init__\u001b[0;34m(self, f, engine, **kwds)\u001b[0m\n\u001b[1;32m   1617\u001b[0m     \u001b[38;5;28mself\u001b[39m\u001b[38;5;241m.\u001b[39moptions[\u001b[38;5;124m\"\u001b[39m\u001b[38;5;124mhas_index_names\u001b[39m\u001b[38;5;124m\"\u001b[39m] \u001b[38;5;241m=\u001b[39m kwds[\u001b[38;5;124m\"\u001b[39m\u001b[38;5;124mhas_index_names\u001b[39m\u001b[38;5;124m\"\u001b[39m]\n\u001b[1;32m   1619\u001b[0m \u001b[38;5;28mself\u001b[39m\u001b[38;5;241m.\u001b[39mhandles: IOHandles \u001b[38;5;241m|\u001b[39m \u001b[38;5;28;01mNone\u001b[39;00m \u001b[38;5;241m=\u001b[39m \u001b[38;5;28;01mNone\u001b[39;00m\n\u001b[0;32m-> 1620\u001b[0m \u001b[38;5;28mself\u001b[39m\u001b[38;5;241m.\u001b[39m_engine \u001b[38;5;241m=\u001b[39m \u001b[38;5;28;43mself\u001b[39;49m\u001b[38;5;241;43m.\u001b[39;49m\u001b[43m_make_engine\u001b[49m\u001b[43m(\u001b[49m\u001b[43mf\u001b[49m\u001b[43m,\u001b[49m\u001b[43m \u001b[49m\u001b[38;5;28;43mself\u001b[39;49m\u001b[38;5;241;43m.\u001b[39;49m\u001b[43mengine\u001b[49m\u001b[43m)\u001b[49m\n",
      "File \u001b[0;32m~/miniconda3/envs/dl_venv/lib/python3.12/site-packages/pandas/io/parsers/readers.py:1880\u001b[0m, in \u001b[0;36mTextFileReader._make_engine\u001b[0;34m(self, f, engine)\u001b[0m\n\u001b[1;32m   1878\u001b[0m     \u001b[38;5;28;01mif\u001b[39;00m \u001b[38;5;124m\"\u001b[39m\u001b[38;5;124mb\u001b[39m\u001b[38;5;124m\"\u001b[39m \u001b[38;5;129;01mnot\u001b[39;00m \u001b[38;5;129;01min\u001b[39;00m mode:\n\u001b[1;32m   1879\u001b[0m         mode \u001b[38;5;241m+\u001b[39m\u001b[38;5;241m=\u001b[39m \u001b[38;5;124m\"\u001b[39m\u001b[38;5;124mb\u001b[39m\u001b[38;5;124m\"\u001b[39m\n\u001b[0;32m-> 1880\u001b[0m \u001b[38;5;28mself\u001b[39m\u001b[38;5;241m.\u001b[39mhandles \u001b[38;5;241m=\u001b[39m \u001b[43mget_handle\u001b[49m\u001b[43m(\u001b[49m\n\u001b[1;32m   1881\u001b[0m \u001b[43m    \u001b[49m\u001b[43mf\u001b[49m\u001b[43m,\u001b[49m\n\u001b[1;32m   1882\u001b[0m \u001b[43m    \u001b[49m\u001b[43mmode\u001b[49m\u001b[43m,\u001b[49m\n\u001b[1;32m   1883\u001b[0m \u001b[43m    \u001b[49m\u001b[43mencoding\u001b[49m\u001b[38;5;241;43m=\u001b[39;49m\u001b[38;5;28;43mself\u001b[39;49m\u001b[38;5;241;43m.\u001b[39;49m\u001b[43moptions\u001b[49m\u001b[38;5;241;43m.\u001b[39;49m\u001b[43mget\u001b[49m\u001b[43m(\u001b[49m\u001b[38;5;124;43m\"\u001b[39;49m\u001b[38;5;124;43mencoding\u001b[39;49m\u001b[38;5;124;43m\"\u001b[39;49m\u001b[43m,\u001b[49m\u001b[43m \u001b[49m\u001b[38;5;28;43;01mNone\u001b[39;49;00m\u001b[43m)\u001b[49m\u001b[43m,\u001b[49m\n\u001b[1;32m   1884\u001b[0m \u001b[43m    \u001b[49m\u001b[43mcompression\u001b[49m\u001b[38;5;241;43m=\u001b[39;49m\u001b[38;5;28;43mself\u001b[39;49m\u001b[38;5;241;43m.\u001b[39;49m\u001b[43moptions\u001b[49m\u001b[38;5;241;43m.\u001b[39;49m\u001b[43mget\u001b[49m\u001b[43m(\u001b[49m\u001b[38;5;124;43m\"\u001b[39;49m\u001b[38;5;124;43mcompression\u001b[39;49m\u001b[38;5;124;43m\"\u001b[39;49m\u001b[43m,\u001b[49m\u001b[43m \u001b[49m\u001b[38;5;28;43;01mNone\u001b[39;49;00m\u001b[43m)\u001b[49m\u001b[43m,\u001b[49m\n\u001b[1;32m   1885\u001b[0m \u001b[43m    \u001b[49m\u001b[43mmemory_map\u001b[49m\u001b[38;5;241;43m=\u001b[39;49m\u001b[38;5;28;43mself\u001b[39;49m\u001b[38;5;241;43m.\u001b[39;49m\u001b[43moptions\u001b[49m\u001b[38;5;241;43m.\u001b[39;49m\u001b[43mget\u001b[49m\u001b[43m(\u001b[49m\u001b[38;5;124;43m\"\u001b[39;49m\u001b[38;5;124;43mmemory_map\u001b[39;49m\u001b[38;5;124;43m\"\u001b[39;49m\u001b[43m,\u001b[49m\u001b[43m \u001b[49m\u001b[38;5;28;43;01mFalse\u001b[39;49;00m\u001b[43m)\u001b[49m\u001b[43m,\u001b[49m\n\u001b[1;32m   1886\u001b[0m \u001b[43m    \u001b[49m\u001b[43mis_text\u001b[49m\u001b[38;5;241;43m=\u001b[39;49m\u001b[43mis_text\u001b[49m\u001b[43m,\u001b[49m\n\u001b[1;32m   1887\u001b[0m \u001b[43m    \u001b[49m\u001b[43merrors\u001b[49m\u001b[38;5;241;43m=\u001b[39;49m\u001b[38;5;28;43mself\u001b[39;49m\u001b[38;5;241;43m.\u001b[39;49m\u001b[43moptions\u001b[49m\u001b[38;5;241;43m.\u001b[39;49m\u001b[43mget\u001b[49m\u001b[43m(\u001b[49m\u001b[38;5;124;43m\"\u001b[39;49m\u001b[38;5;124;43mencoding_errors\u001b[39;49m\u001b[38;5;124;43m\"\u001b[39;49m\u001b[43m,\u001b[49m\u001b[43m \u001b[49m\u001b[38;5;124;43m\"\u001b[39;49m\u001b[38;5;124;43mstrict\u001b[39;49m\u001b[38;5;124;43m\"\u001b[39;49m\u001b[43m)\u001b[49m\u001b[43m,\u001b[49m\n\u001b[1;32m   1888\u001b[0m \u001b[43m    \u001b[49m\u001b[43mstorage_options\u001b[49m\u001b[38;5;241;43m=\u001b[39;49m\u001b[38;5;28;43mself\u001b[39;49m\u001b[38;5;241;43m.\u001b[39;49m\u001b[43moptions\u001b[49m\u001b[38;5;241;43m.\u001b[39;49m\u001b[43mget\u001b[49m\u001b[43m(\u001b[49m\u001b[38;5;124;43m\"\u001b[39;49m\u001b[38;5;124;43mstorage_options\u001b[39;49m\u001b[38;5;124;43m\"\u001b[39;49m\u001b[43m,\u001b[49m\u001b[43m \u001b[49m\u001b[38;5;28;43;01mNone\u001b[39;49;00m\u001b[43m)\u001b[49m\u001b[43m,\u001b[49m\n\u001b[1;32m   1889\u001b[0m \u001b[43m\u001b[49m\u001b[43m)\u001b[49m\n\u001b[1;32m   1890\u001b[0m \u001b[38;5;28;01massert\u001b[39;00m \u001b[38;5;28mself\u001b[39m\u001b[38;5;241m.\u001b[39mhandles \u001b[38;5;129;01mis\u001b[39;00m \u001b[38;5;129;01mnot\u001b[39;00m \u001b[38;5;28;01mNone\u001b[39;00m\n\u001b[1;32m   1891\u001b[0m f \u001b[38;5;241m=\u001b[39m \u001b[38;5;28mself\u001b[39m\u001b[38;5;241m.\u001b[39mhandles\u001b[38;5;241m.\u001b[39mhandle\n",
      "File \u001b[0;32m~/miniconda3/envs/dl_venv/lib/python3.12/site-packages/pandas/io/common.py:873\u001b[0m, in \u001b[0;36mget_handle\u001b[0;34m(path_or_buf, mode, encoding, compression, memory_map, is_text, errors, storage_options)\u001b[0m\n\u001b[1;32m    868\u001b[0m \u001b[38;5;28;01melif\u001b[39;00m \u001b[38;5;28misinstance\u001b[39m(handle, \u001b[38;5;28mstr\u001b[39m):\n\u001b[1;32m    869\u001b[0m     \u001b[38;5;66;03m# Check whether the filename is to be opened in binary mode.\u001b[39;00m\n\u001b[1;32m    870\u001b[0m     \u001b[38;5;66;03m# Binary mode does not support 'encoding' and 'newline'.\u001b[39;00m\n\u001b[1;32m    871\u001b[0m     \u001b[38;5;28;01mif\u001b[39;00m ioargs\u001b[38;5;241m.\u001b[39mencoding \u001b[38;5;129;01mand\u001b[39;00m \u001b[38;5;124m\"\u001b[39m\u001b[38;5;124mb\u001b[39m\u001b[38;5;124m\"\u001b[39m \u001b[38;5;129;01mnot\u001b[39;00m \u001b[38;5;129;01min\u001b[39;00m ioargs\u001b[38;5;241m.\u001b[39mmode:\n\u001b[1;32m    872\u001b[0m         \u001b[38;5;66;03m# Encoding\u001b[39;00m\n\u001b[0;32m--> 873\u001b[0m         handle \u001b[38;5;241m=\u001b[39m \u001b[38;5;28;43mopen\u001b[39;49m\u001b[43m(\u001b[49m\n\u001b[1;32m    874\u001b[0m \u001b[43m            \u001b[49m\u001b[43mhandle\u001b[49m\u001b[43m,\u001b[49m\n\u001b[1;32m    875\u001b[0m \u001b[43m            \u001b[49m\u001b[43mioargs\u001b[49m\u001b[38;5;241;43m.\u001b[39;49m\u001b[43mmode\u001b[49m\u001b[43m,\u001b[49m\n\u001b[1;32m    876\u001b[0m \u001b[43m            \u001b[49m\u001b[43mencoding\u001b[49m\u001b[38;5;241;43m=\u001b[39;49m\u001b[43mioargs\u001b[49m\u001b[38;5;241;43m.\u001b[39;49m\u001b[43mencoding\u001b[49m\u001b[43m,\u001b[49m\n\u001b[1;32m    877\u001b[0m \u001b[43m            \u001b[49m\u001b[43merrors\u001b[49m\u001b[38;5;241;43m=\u001b[39;49m\u001b[43merrors\u001b[49m\u001b[43m,\u001b[49m\n\u001b[1;32m    878\u001b[0m \u001b[43m            \u001b[49m\u001b[43mnewline\u001b[49m\u001b[38;5;241;43m=\u001b[39;49m\u001b[38;5;124;43m\"\u001b[39;49m\u001b[38;5;124;43m\"\u001b[39;49m\u001b[43m,\u001b[49m\n\u001b[1;32m    879\u001b[0m \u001b[43m        \u001b[49m\u001b[43m)\u001b[49m\n\u001b[1;32m    880\u001b[0m     \u001b[38;5;28;01melse\u001b[39;00m:\n\u001b[1;32m    881\u001b[0m         \u001b[38;5;66;03m# Binary mode\u001b[39;00m\n\u001b[1;32m    882\u001b[0m         handle \u001b[38;5;241m=\u001b[39m \u001b[38;5;28mopen\u001b[39m(handle, ioargs\u001b[38;5;241m.\u001b[39mmode)\n",
      "\u001b[0;31mFileNotFoundError\u001b[0m: [Errno 2] Aucun fichier ou dossier de ce nom: 'data/balanced_test_set.csv'"
     ]
    }
   ],
   "source": [
    "csv_file = 'data/balanced_test_set.csv'\n",
    "df = pd.read_csv(csv_file, sep='\\t')\n",
    "\n",
    "profile = ProfileReport(df, title=\"CSV Profile Report\", explorative=True)\n",
    "profile.to_file(\"profile_report_test_set.html\") \n"
   ]
  },
  {
   "cell_type": "code",
   "execution_count": null,
   "metadata": {},
   "outputs": [
    {
     "data": {
      "image/png": "[encoded data removed]",
      "text/plain": [
       "<Figure size 800x600 with 1 Axes>"
      ]
     },
     "metadata": {},
     "output_type": "display_data"
    }
   ],
   "source": [
    "rating_counts = df['rating'].value_counts().sort_index()\n",
    "\n",
    "# Set a stylish color palette using seaborn\n",
    "sns.set_palette(\"viridis\")  # You can choose other palettes like 'magma', 'inferno', etc.\n",
    "\n",
    "# Plot the distribution with a more stylish approach\n",
    "plt.figure(figsize=(8, 6))\n",
    "bars = plt.bar(rating_counts.index, rating_counts.values, color=sns.color_palette(\"coolwarm\", 5))  # 'coolwarm' for a gradient color effect\n",
    "\n",
    "# Add title and labels\n",
    "plt.xlabel('Rating', fontsize=14)\n",
    "plt.ylabel('Frequency', fontsize=14)\n",
    "plt.title('Rating Distribution', fontsize=16)\n",
    "\n",
    "# Rotate x-axis labels for better readability\n",
    "plt.xticks(range(1, 6), fontsize=12)\n",
    "plt.yticks(fontsize=12)\n",
    "\n",
    "# Add a grid for better visual separation\n",
    "plt.grid(axis='y', linestyle='--', alpha=0.7)\n",
    "\n",
    "# Add value labels on top of each bar\n",
    "for bar in bars:\n",
    "    height = bar.get_height()\n",
    "    plt.text(bar.get_x() + bar.get_width() / 2, height + 0.5, f'{int(height)}', ha='center', fontsize=12)\n",
    "\n",
    "# Show the plot\n",
    "plt.tight_layout()\n",
    "plt.show()\n"
   ]
  },
  {
   "cell_type": "code",
   "execution_count": null,
   "metadata": {},
   "outputs": [
    {
     "data": {
      "image/png": "[encoded data removed]",
      "text/plain": [
       "<Figure size 800x600 with 1 Axes>"
      ]
     },
     "metadata": {},
     "output_type": "display_data"
    }
   ],
   "source": [
    "if 'language' not in df.columns:\n",
    "    raise ValueError(\"The CSV file must contain a 'language' column.\")\n",
    "\n",
    "# Count the occurrences of each language\n",
    "language_counts = df['language'].value_counts()\n",
    "\n",
    "# Set a stylish color palette using seaborn\n",
    "sns.set_palette(\"Set2\")  # You can choose other palettes like 'Set1', 'Paired', etc.\n",
    "\n",
    "# Plot the distribution with a more stylish approach\n",
    "plt.figure(figsize=(8, 6))\n",
    "bars = plt.bar(language_counts.index, language_counts.values, color=sns.color_palette(\"Set2\", len(language_counts)))  # Using the 'Set2' palette for distinct colors\n",
    "\n",
    "# Add title and labels\n",
    "plt.xlabel('Language', fontsize=14)\n",
    "plt.ylabel('Frequency', fontsize=14)\n",
    "plt.title('Language Distribution', fontsize=16)\n",
    "\n",
    "# Rotate x-axis labels for better readability\n",
    "plt.xticks(rotation=45, fontsize=12)\n",
    "plt.yticks(fontsize=12)\n",
    "\n",
    "# Add a grid for better visual separation\n",
    "plt.grid(axis='y', linestyle='--', alpha=0.7)\n",
    "\n",
    "# Add value labels on top of each bar\n",
    "for bar in bars:\n",
    "    height = bar.get_height()\n",
    "    plt.text(bar.get_x() + bar.get_width() / 2, height + 0.5, f'{int(height)}', ha='center', fontsize=12)\n",
    "\n",
    "# Show the plot\n",
    "plt.tight_layout()\n",
    "plt.show()"
   ]
  }
 ],
 "metadata": {
  "kernelspec": {
   "display_name": "dl_venv",
   "language": "python",
   "name": "python3"
  },
  "language_info": {
   "codemirror_mode": {
    "name": "ipython",
    "version": 3
   },
   "file_extension": ".py",
   "mimetype": "text/x-python",
   "name": "python",
   "nbconvert_exporter": "python",
   "pygments_lexer": "ipython3",
   "version": "3.12.8"
  }
 },
 "nbformat": 4,
 "nbformat_minor": 2
}
